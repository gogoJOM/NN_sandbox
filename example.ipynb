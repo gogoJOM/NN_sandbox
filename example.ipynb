{
 "cells": [
  {
   "cell_type": "code",
   "execution_count": 1,
   "metadata": {},
   "outputs": [],
   "source": [
    "from src.core import Value"
   ]
  },
  {
   "cell_type": "code",
   "execution_count": 2,
   "metadata": {},
   "outputs": [],
   "source": [
    "a = Value(-2.0)\n",
    "b = Value(3.0)\n",
    "d = a + b\n",
    "c = Value(2.0)\n",
    "e = a * c\n",
    "f = d * e\n"
   ]
  },
  {
   "cell_type": "code",
   "execution_count": 3,
   "metadata": {},
   "outputs": [
    {
     "name": "stdout",
     "output_type": "stream",
     "text": [
      "d -4.0\n",
      "e 1.0\n",
      "a -2.0\n",
      "b -4.0\n",
      "c -2.0\n"
     ]
    }
   ],
   "source": [
    "f.backward()\n",
    "print('d', d.grad)\n",
    "print('e', e.grad)\n",
    "print('a', a.grad)\n",
    "print('b', b.grad)\n",
    "print('c', c.grad)\n"
   ]
  },
  {
   "cell_type": "code",
   "execution_count": 7,
   "metadata": {},
   "outputs": [
    {
     "name": "stdout",
     "output_type": "stream",
     "text": [
      "20.00506738147406 Value(-1.3327024695897292)\n",
      "3.774012764175775 Value(1.1973181515812286)\n",
      "3.1936684881635964 Value(4.927083794387828)\n",
      "6.634463191845559 Value(0.5642548278516449)\n",
      "3.6985004783803417 Value(1.2168514154178462)\n",
      "1.0661334755000629 Value(2.1074626033406525)\n",
      "0.0066096604008714565 Value(3.2212998179633354)\n",
      "0.004299361047122948 Value(3.0744304869079926)\n",
      "0.0022788019909112333 Value(3.1877367991272063)\n",
      "0.0014181774880942448 Value(3.1023413026235076)\n",
      "0.0007833708719054886 Value(3.167988763315043)\n",
      "0.0004746816846178297 Value(3.1182128091618533)\n",
      "0.0002682903952975805 Value(3.1563795725004526)\n",
      "0.00016000097592272286 Value(3.1273508507826526)\n",
      "9.161985181795773e-05 Value(3.149571825939598)\n",
      "5.412695325244621e-05 Value(3.1326428977679766)\n",
      "3.1227471316142125e-05 Value(3.1455881545537094)\n",
      "1.8346471713538778e-05 Value(3.1357167218496182)\n",
      "1.0630634058183716e-05 Value(3.1432604653131393)\n",
      "6.225343285858295e-06 Value(3.1375049362160743)\n"
     ]
    }
   ],
   "source": [
    "from src.core import Value\n",
    "from src.core import NeuralNet\n",
    "\n",
    "x = [Value(1.0), Value(2.0), Value(-1.0)]\n",
    "net = NeuralNet([[3, 4], [4, 4], [4, 1]])\n",
    "\n",
    "\n",
    "y_trues = [3.14]\n",
    "lr, n_steps = 0.05, 20\n",
    "\n",
    "for _ in range(n_steps):\n",
    "    y_preds = net.forward(x)\n",
    "    loss = sum((y_pred - y_true) * (y_pred - y_true) for y_pred, y_true in zip(y_preds, y_trues)) \n",
    "\n",
    "    net.zero_grad()\n",
    "    loss.backward()\n",
    "\n",
    "    for param in net.parameters():\n",
    "        param.data -= param.grad * lr\n",
    "\n",
    "    print(loss.data, y_preds[0])"
   ]
  },
  {
   "cell_type": "code",
   "execution_count": null,
   "metadata": {},
   "outputs": [],
   "source": []
  }
 ],
 "metadata": {
  "kernelspec": {
   "display_name": "Python 3",
   "language": "python",
   "name": "python3"
  },
  "language_info": {
   "codemirror_mode": {
    "name": "ipython",
    "version": 3
   },
   "file_extension": ".py",
   "mimetype": "text/x-python",
   "name": "python",
   "nbconvert_exporter": "python",
   "pygments_lexer": "ipython3",
   "version": "3.8.10"
  },
  "orig_nbformat": 4
 },
 "nbformat": 4,
 "nbformat_minor": 2
}
