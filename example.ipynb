{
 "cells": [
  {
   "cell_type": "code",
   "execution_count": 1,
   "metadata": {},
   "outputs": [],
   "source": [
    "from src.core import Value"
   ]
  },
  {
   "cell_type": "code",
   "execution_count": 2,
   "metadata": {},
   "outputs": [],
   "source": [
    "a = Value(-2.0)\n",
    "b = Value(3.0)\n",
    "d = a + b\n",
    "c = Value(2.0)\n",
    "e = a * c\n",
    "f = d * e\n"
   ]
  },
  {
   "cell_type": "code",
   "execution_count": 3,
   "metadata": {},
   "outputs": [
    {
     "name": "stdout",
     "output_type": "stream",
     "text": [
      "d -4.0\n",
      "e 1.0\n",
      "a -2.0\n",
      "b -4.0\n",
      "c -2.0\n"
     ]
    }
   ],
   "source": [
    "f.backward()\n",
    "print('d', d.grad)\n",
    "print('e', e.grad)\n",
    "print('a', a.grad)\n",
    "print('b', b.grad)\n",
    "print('c', c.grad)\n"
   ]
  }
 ],
 "metadata": {
  "kernelspec": {
   "display_name": "Python 3",
   "language": "python",
   "name": "python3"
  },
  "language_info": {
   "codemirror_mode": {
    "name": "ipython",
    "version": 3
   },
   "file_extension": ".py",
   "mimetype": "text/x-python",
   "name": "python",
   "nbconvert_exporter": "python",
   "pygments_lexer": "ipython3",
   "version": "3.8.10"
  },
  "orig_nbformat": 4
 },
 "nbformat": 4,
 "nbformat_minor": 2
}
